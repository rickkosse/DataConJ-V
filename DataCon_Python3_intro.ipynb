{
 "cells": [
  {
   "cell_type": "markdown",
   "metadata": {},
   "source": [
    "# Intro voor Data science J&V datacon\n"
   ]
  },
  {
   "cell_type": "markdown",
   "metadata": {},
   "source": [
    "\n",
    "<img src=\"https://www.strafrechtketen.nl/binaries/large/content/gallery/strafrechtketen/content-afbeeldingen/partners/jid_logo.jpg\" width=400 height=200/>"
   ]
  },
  {
   "cell_type": "markdown",
   "metadata": {},
   "source": [
    "Intro voor Data science J&V datacon\n",
    "\n",
    "In deze cursus gaan we proeven aan het geen wat data science heet. Om te beginnen met programmeren in Python.\n",
    "\n",
    "\n",
    "Het programma waar in je werkt heet een Jupyter notebook. De code is voor geprogrammeerd en kan je aanroepen door je cursor in de cel te zetten en op de uitvoeren knop (playknop) te klikken boven in het menu of toetscombinatie SHIFT+ENTER. Je hoeft dus niet direct zelf iets te programmeren. Gaat er iets fout? Refresh de browser en voer de cellen op chronologische volgorde uit.\n",
    "\n",
    "Interesse in werk- of stageplek bij Justid bekijk onze vacatures: https://www.justid.nl/over-ons/vacature"
   ]
  },
  {
   "cell_type": "markdown",
   "metadata": {},
   "source": [
    "## Een hele, hele kleine overview van Python\n"
   ]
  },
  {
   "cell_type": "markdown",
   "metadata": {},
   "source": [
    "Python is een makkelijke taal om te leren. Python is begin jaren 90 ontworpen en ontwikkeld door de Nederlander Guido van Rossum, destijds verbonden aan het Centrum voor Wiskunde en Informatica in Amsterdam.\n",
    "\n",
    "<img src=\"https://logodownload.org/wp-content/uploads/2019/10/python-logo-0.png\" width=400 height=100/>"
   ]
  },
  {
   "cell_type": "markdown",
   "metadata": {},
   "source": [
    "Om te oefenen gaan we onze eerste tekst printen, dat doen we door de ingebouwde print statement van Python. Daarna gaan we variabelen aanwijzen en aanpassen! Zet je cursor in de cel hier beneden en klik op de playknop. De output komt onder de cel.\n",
    "#### opdracht 1 - print"
   ]
  },
  {
   "cell_type": "code",
   "execution_count": null,
   "metadata": {},
   "outputs": [],
   "source": [
    "print(\"Hello world\")"
   ]
  },
  {
   "cell_type": "markdown",
   "metadata": {},
   "source": [
    "\n",
    "#### opdracht 2 - variabelen"
   ]
  },
  {
   "cell_type": "code",
   "execution_count": null,
   "metadata": {},
   "outputs": [],
   "source": [
    "a = 3\n",
    "b = a + 2\n",
    "print(b) #Wat is de uitkomst van b?"
   ]
  },
  {
   "cell_type": "markdown",
   "metadata": {},
   "source": [
    "Python is flexibel we kunnen iedere keer een variabel overschrijven/aanpassen. Hieronder overschrijven we nogmaals variabel _a_ door de string _\"Justid!\"_.\n",
    "#### opdracht 3 - data typen"
   ]
  },
  {
   "cell_type": "code",
   "execution_count": null,
   "metadata": {},
   "outputs": [],
   "source": [
    "a = \"Justid!\"\n",
    "print(\"I Love \" + a)"
   ]
  },
  {
   "cell_type": "markdown",
   "metadata": {},
   "source": [
    "Variabelen aanwijzen doen we in Python met het \"=\" teken.  \n",
    "Hierboven wijzen we het nummer (of _integers_ zoals Python dat noemt) aan de letter _a_.\n",
    "\n",
    "\n",
    "Een integer is een datatype. Net als andere programmeertalen definieert Python verschillende datatypen. Denk hierbij aan:\n",
    "\n",
    "- strings = \"een willekeurige volgorde van karakters(nummers en cijfers), te herkennen aan de quotes\" \n",
    "- integers = 1 (hele getallen)\n",
    "- floats = 0.4 (getallen met decimalen)\n",
    "- lijst = [\"een verzamleing\", 4, 5, 5, \"van verschillende soorten\", \"datatypen\"] \n",
    "- boolean = True of False\n",
    "\n",
    "Python overschrijft een variabele wanneer deze al een eerder moment is aangemaakt."
   ]
  },
  {
   "cell_type": "markdown",
   "metadata": {},
   "source": [
    "In Python hebben we verschillende \"operators\" dit zijn de bekende: _+, -, : etc._  \n",
    "Voor een goed overzicht bekijk deze pagina: https://www.w3schools.com/python/python_operators.asp  "
   ]
  },
  {
   "cell_type": "markdown",
   "metadata": {},
   "source": [
    "# Titanic dataset"
   ]
  },
  {
   "cell_type": "markdown",
   "metadata": {},
   "source": [
    "In het volgende hoofstuk kijken we naar *beslissingsbomen*, ons type classificatiemodel dat dieper ingaat op het gebied van machine learning. In de oefening van vandaag gebruiken we de `scikit-learn` library.\n",
    "\n",
    "\n",
    "***\n",
    "![alt text](https://upload.wikimedia.org/wikipedia/commons/thumb/d/db/Titanic-Cobh-Harbour-1912.JPG/330px-Titanic-Cobh-Harbour-1912.JPG)\n",
    "    \n",
    "We illustreren hoe beslissingsbomen werken met behulp van de Titanic-survivaldataset die beschikbaar is op [Kaggle](https://www.kaggle.com/c/titanic/data). We zullen kijken naar een verscheidenheid aan variabelen om ons te helpen voorspellen of een bepaalde passagier op de Titanic kon overleven. Er is veel te vinden op internet (inclusief [hier](https://triangleinequality.wordpress.com/2013/09/08/basic-feature-engineering-with-the-titanic-data/)) over deze dataset, omdat het populair is onder degenen die net op de hoogte zijn van classificatiemodellen voor machine learning.\n",
    "***\n",
    "\n"
   ]
  },
  {
   "cell_type": "markdown",
   "metadata": {},
   "source": [
    "### Data legenda\n",
    "\n",
    "|Variable|Definition|Key|\n",
    "| --- | --- |:---|\n",
    "| survival | Survival | 0 = No, 1 = Yes |\n",
    "| pclass\t| Ticket class\t| 1 = 1st, 2 = 2nd, 3 = 3rd |\n",
    "| sex\t| Sex | male female | \t\n",
    "| Age | Age in years | 0.0 - 100.0 | \t\n",
    "| sibsp\t| # of siblings / spouses aboard the Titanic | 0-100\t| \n",
    "| parch\t| # of parents / children aboard the Titanic | 0-100 | \n",
    "| ticket | Ticket number | example: A/5 21171 | \n",
    "| fare\t| Passenger fare | 0.000-100.0000\t| \n",
    "| cabin\t| Cabin number| example: C85\t| \n",
    "| embarked | Port of Embarkation\t| C = Cherbourg (France), Q = Queenstown (Ireland), S = Southampton (England) | "
   ]
  },
  {
   "cell_type": "markdown",
   "metadata": {},
   "source": [
    "## Inladen van de data\n",
    "#### opdracht 4"
   ]
  },
  {
   "cell_type": "markdown",
   "metadata": {},
   "source": [
    "_De volgende blok met code laadt de benodigde libraries in voor deze opdracht:_"
   ]
  },
  {
   "cell_type": "code",
   "execution_count": null,
   "metadata": {},
   "outputs": [],
   "source": [
    "import numpy as np\n",
    "import pandas as pd\n",
    "import warnings\n",
    "import matplotlib.pyplot as plt\n",
    "from sklearn.tree import DecisionTreeClassifier\n",
    "from sklearn.linear_model import LogisticRegression\n",
    "from sklearn.metrics import accuracy_score, recall_score, precision_score, confusion_matrix, classification_report\n",
    "import seaborn as sns\n",
    "from sklearn.ensemble import RandomForestClassifier\n",
    "\n",
    "\n",
    "%matplotlib inline\n",
    "warnings.filterwarnings(\"ignore\")"
   ]
  },
  {
   "cell_type": "markdown",
   "metadata": {},
   "source": [
    "#### opdracht 5"
   ]
  },
  {
   "cell_type": "code",
   "execution_count": null,
   "metadata": {},
   "outputs": [],
   "source": [
    "df = pd.read_csv('https://grantmlong.com/data/titanic.csv')"
   ]
  },
  {
   "cell_type": "code",
   "execution_count": null,
   "metadata": {},
   "outputs": [],
   "source": [
    "df.head(10)"
   ]
  },
  {
   "cell_type": "code",
   "execution_count": null,
   "metadata": {},
   "outputs": [],
   "source": [
    "df.info()"
   ]
  },
  {
   "cell_type": "markdown",
   "metadata": {},
   "source": [
    "## Exploreren van de data\n",
    "#### opdracht 6"
   ]
  },
  {
   "cell_type": "code",
   "execution_count": null,
   "metadata": {},
   "outputs": [],
   "source": [
    "df.describe()"
   ]
  },
  {
   "cell_type": "code",
   "execution_count": null,
   "metadata": {},
   "outputs": [],
   "source": [
    "df.describe(include=['O'])"
   ]
  },
  {
   "cell_type": "code",
   "execution_count": null,
   "metadata": {},
   "outputs": [],
   "source": [
    "pd.isnull(df).sum()"
   ]
  },
  {
   "cell_type": "markdown",
   "metadata": {},
   "source": [
    "#### opdracht 7\n",
    "\n",
    "**Over de data:**\n",
    "\n",
    "    - Het aantal passagiers zijn 891 wat ongeveer 40% is van het daadwerkelijke nummer aan boord van de Titanic (2,224).\n",
    "    - We missen ongeveer 20% data in Age. We doen de aanname dat leeftijd waarschijnlijk belangrijk zijn\n",
    "    - We missen ongeveer 80% in de Cabin column en misschien droppen we deze column.\n",
    "    - Er zijn zijn 2 missende waardes in Embarked\n",
    "    - Ticket laten we misschien vallen aangezien we over 200 dubbele hebben en Ticket informatie is waarschijnlijk \n",
    "    niet gebonden aan survival\n",
    "    - Namen niet meteen gerelated aan survival dus we kunnen het laten vallen.\n",
    "\n"
   ]
  },
  {
   "cell_type": "markdown",
   "metadata": {},
   "source": [
    "\n",
    "\n",
    "**Aannames:**\n",
    "\n",
    "\n",
    "Om nauwkeurig te kunnen voorspellen, moeten we kenmerken onderzoeken die correleren met Survival. Aangenomen wordt dat:\n",
    "\n",
    "- SEX: Vrouwen (geslacht = vrouw) hebben meer kans om te overleven.\n",
    "- SibSp/Parch: Mensen die alleen reizen, hebben meer kans om te overleven.\n",
    "- Age: Jongeren hebben meer kans om te overleven.\n",
    "- Pclass: De passagiers uit de hogere klasse (Pclass=1) hebben meer kans om te overleven.\n",
    "\n",
    "\n",
    "#### opdracht 8"
   ]
  },
  {
   "cell_type": "code",
   "execution_count": null,
   "metadata": {},
   "outputs": [],
   "source": [
    "import  seaborn as sns\n",
    "g = sns.FacetGrid(df, col='Survived',row='Pclass')\n",
    "g.map(plt.hist, 'Age', bins=30)"
   ]
  },
  {
   "cell_type": "code",
   "execution_count": null,
   "metadata": {},
   "outputs": [],
   "source": [
    "sns.barplot(x=\"Pclass\", y=\"Survived\",data=df,palette='rainbow')\n",
    "#print percentages van klasses die overleven\n",
    "print(\"Percentage van Class 1 die hebben survived:\", df[\"Survived\"][df[\"Pclass\"] == 1].value_counts(normalize = True)[1]*100)\n",
    "print(\"Percentage van Class 2 die hebben survived:\", df[\"Survived\"][df[\"Pclass\"] == 2].value_counts(normalize = True)[1]*100)\n",
    "print(\"Percentage van Class 3 die hebben survived:\", df[\"Survived\"][df[\"Pclass\"] == 3].value_counts(normalize = True)[1]*100)"
   ]
  },
  {
   "cell_type": "markdown",
   "metadata": {},
   "source": [
    "#### opdracht 9"
   ]
  },
  {
   "cell_type": "code",
   "execution_count": null,
   "metadata": {},
   "outputs": [],
   "source": [
    "sns.countplot(x='Survived',hue='Sex',data=df,palette='rainbow')\n",
    "#print percentages van vrouwen vs. mannen die overleven\n",
    "print(\"Percentages vrouwen survived:\", df[\"Survived\"][df[\"Sex\"] == 'female'].value_counts(normalize = True)[1]*100)\n",
    "\n",
    "print(\"Percentages mannen survived:\", df[\"Survived\"][df[\"Sex\"] == 'male'].value_counts(normalize = True)[1]*100)\n",
    "\n"
   ]
  },
  {
   "cell_type": "markdown",
   "metadata": {},
   "source": [
    "#### opdracht 10"
   ]
  },
  {
   "cell_type": "code",
   "execution_count": null,
   "metadata": {},
   "outputs": [],
   "source": [
    "df[['SibSp','Survived']].groupby(by='SibSp').mean().sort_values(by='Survived',ascending=False)"
   ]
  },
  {
   "cell_type": "markdown",
   "metadata": {},
   "source": [
    "(SibSp=1) hebben de meeste kans om te overleven (53.6%)\n"
   ]
  },
  {
   "cell_type": "code",
   "execution_count": null,
   "metadata": {},
   "outputs": [],
   "source": [
    "df[['Parch','Survived']].groupby(by='Parch').mean().sort_values(by='Survived',ascending=False)"
   ]
  },
  {
   "cell_type": "markdown",
   "metadata": {},
   "source": [
    "\n",
    "(Parch=3) hebben de meeste kans om te overleven (60%)\n"
   ]
  },
  {
   "cell_type": "markdown",
   "metadata": {},
   "source": [
    " "
   ]
  },
  {
   "cell_type": "markdown",
   "metadata": {},
   "source": [
    "**Reactie op eerdere veronderstellingen:**\n",
    "\n",
    "- Sex: Vrouwen (geslacht = vrouw) hebben meer kans om te overleven.\n",
    "    - Zeer goed mogelijk  \n",
    "\n",
    "\n",
    "- SibSp/Parch: mensen die alleen reizen, hebben meer kans om te overleven\n",
    "    - Niet echt. (SibSp=1) & (Parch=3) hebben de meeste kans om te overleven\n",
    "\n",
    "\n",
    "- Age: Jonge kinderen hebben meer kans om te overleven.\n",
    "    - Mogelijk. Jonge kinderen in klas 1 en 2 zijn zelden gesneuveld.\n",
    "\n",
    "\n",
    "- Pclass: De passagiers uit de hogere klasse (Pclass=1) hebben meer kans om te overleven\n",
    "    - Het aandeel overlevenden in klasse 1 & 2 is groter dan dat van klasse 3\n",
    "\n",
    "Geslacht, Pclass, Age-kenmerken worden gecorreleerd aan overleving.\n"
   ]
  },
  {
   "cell_type": "markdown",
   "metadata": {},
   "source": [
    " "
   ]
  },
  {
   "cell_type": "markdown",
   "metadata": {},
   "source": [
    "## Gegevens opschonen\n",
    "\n",
    "    Ontbrekende waarde zou worden ingevuld door toerekening\n",
    "    De kolommen Sex en Embarked worden omgezet in dummies-variabelen\n",
    "    Ticket en cabine worden gedropt\n",
    "\n",
    "### Leeftijdsfunctie\n",
    "\n",
    "Ontbrekende waarden worden opgevuld door de mediaan van Leeftijd, gegroepeerd op verschillende klassen:\n",
    "#### opdracht 11"
   ]
  },
  {
   "cell_type": "code",
   "execution_count": null,
   "metadata": {},
   "outputs": [],
   "source": [
    "# Kijken naar het gemiddelde Age groep per klasse\n",
    "df.groupby('Pclass')['Age'].describe()"
   ]
  },
  {
   "cell_type": "code",
   "execution_count": null,
   "metadata": {},
   "outputs": [],
   "source": [
    "# impute mediaan van Age gebasseerd op Pclass\n",
    "def impute_age(cols):\n",
    "    Age = cols[0]\n",
    "    Pclass = cols[1]\n",
    "    \n",
    "    if pd.isnull(Age):\n",
    "        \n",
    "        if Pclass == 1:\n",
    "            return 38\n",
    "        \n",
    "        elif Pclass == 2:\n",
    "            return 30\n",
    "        \n",
    "        else:\n",
    "            return 25\n",
    "        \n",
    "    else:\n",
    "        return Age"
   ]
  },
  {
   "cell_type": "code",
   "execution_count": null,
   "metadata": {},
   "outputs": [],
   "source": [
    "df['Age'] = df[['Age','Pclass']].apply(impute_age,axis=1)"
   ]
  },
  {
   "cell_type": "markdown",
   "metadata": {},
   "source": [
    "### Fare feature\n",
    "1 missende waarde in Fare wordt opgevuld met de mediaan van de kolom Fare:\n",
    "#### opdracht 12"
   ]
  },
  {
   "cell_type": "code",
   "execution_count": null,
   "metadata": {},
   "outputs": [],
   "source": [
    "# Vul na waarde Fare met de mediaan\n",
    "df['Fare'].fillna(df['Fare'].median(),inplace=True)"
   ]
  },
  {
   "cell_type": "markdown",
   "metadata": {},
   "source": [
    "### Sex en Embarked kenmerken\n",
    "##### Laat Cabin, Name, PassengerId, Ticket kolom vallen\n",
    "#### opdracht 13"
   ]
  },
  {
   "cell_type": "code",
   "execution_count": null,
   "metadata": {},
   "outputs": [],
   "source": [
    "# 2 missende waardes in Embarked en het is categorisch dus we laten het vallen\n",
    "df[\"Embarked\"].dropna(inplace=True)\n",
    "df.drop(['Cabin','Name','Ticket','PassengerId'],axis=1,inplace=True)"
   ]
  },
  {
   "cell_type": "code",
   "execution_count": null,
   "metadata": {},
   "outputs": [],
   "source": [
    "df.head()"
   ]
  },
  {
   "cell_type": "markdown",
   "metadata": {},
   "source": [
    "### Transformeren\n",
    "#### opdracht 14"
   ]
  },
  {
   "cell_type": "code",
   "execution_count": null,
   "metadata": {},
   "outputs": [],
   "source": [
    "# transform de categorische data in de dummies variabelen\n",
    "train_sex = pd.get_dummies(df['Sex'],drop_first=True,dtype='int64')\n",
    "train_embark = pd.get_dummies(df['Embarked'],drop_first=True,dtype='int64')\n",
    "\n",
    "\n",
    "# delete de originele sex en embarked columns\n",
    "df.drop(['Sex','Embarked'],axis=1,inplace=True)\n",
    "\n",
    "# Update de dataframe\n",
    "df = pd.concat([df,train_sex,train_embark],axis=1)\n",
    "\n",
    "\n"
   ]
  },
  {
   "cell_type": "code",
   "execution_count": null,
   "metadata": {},
   "outputs": [],
   "source": [
    "\n",
    "df.info()\n",
    "df.head(5)"
   ]
  },
  {
   "cell_type": "markdown",
   "metadata": {},
   "source": [
    "\n",
    "### Bouwen van een model\n",
    "\n",
    "We gaan drie modellen gebruiken (Decision Tree & Random Forest model) om te voorspellen.  \n",
    "Eerst, splitten we de data in train en test set. De voorspellingen van de twee modellen zullen gevalueerd worden en de beste model zullen eruit pikken.\n",
    "\n",
    "Een Decision Tree is eigenlijk een flowchart, en kan helpen beslissingen te nemen op basis van eerdere ervaringen/gegevens.\n",
    "#### opdracht 15"
   ]
  },
  {
   "cell_type": "code",
   "execution_count": null,
   "metadata": {},
   "outputs": [],
   "source": [
    "from sklearn.model_selection import train_test_split\n",
    "\n",
    "X = df.drop(['Survived'],axis=1)\n",
    "y = df['Survived']\n",
    "\n",
    "X_train, X_test, y_train, y_test = train_test_split(X, y, test_size=0.2, random_state=101)\n"
   ]
  },
  {
   "cell_type": "code",
   "execution_count": null,
   "metadata": {},
   "outputs": [],
   "source": [
    "dtree = DecisionTreeClassifier(random_state=101)\n",
    "dtree.fit(X_train,y_train)\n"
   ]
  },
  {
   "cell_type": "markdown",
   "metadata": {},
   "source": [
    "\n",
    "\n",
    "#### opdracht 16"
   ]
  },
  {
   "cell_type": "code",
   "execution_count": null,
   "metadata": {},
   "outputs": [],
   "source": [
    "pred_dtree = dtree.predict(X_test)\n"
   ]
  },
  {
   "cell_type": "code",
   "execution_count": null,
   "metadata": {},
   "outputs": [],
   "source": [
    "print(accuracy_score(y_test,pred_dtree))\n",
    "print('\\n')\n",
    "print(classification_report(y_test,pred_dtree))\n",
    "print('\\n')"
   ]
  },
  {
   "cell_type": "markdown",
   "metadata": {},
   "source": [
    "75% is een hele beste score, we proberen het met een ander model:\n",
    "#### opdracht 17"
   ]
  },
  {
   "cell_type": "code",
   "execution_count": null,
   "metadata": {},
   "outputs": [],
   "source": [
    "rfc = RandomForestClassifier(random_state=101)\n",
    "rfc.fit(X_train,y_train)\n",
    "\n",
    "pred_rfc_tree = rfc.predict(X_test)\n",
    "\n",
    "print(accuracy_score(y_test,pred_rfc_tree))\n",
    "print('\\n')\n",
    "print(classification_report(y_test,pred_rfc_tree))\n",
    "print('\\n')\n"
   ]
  },
  {
   "cell_type": "markdown",
   "metadata": {},
   "source": [
    "We behalen hier 80% accuracy.  \n",
    "We kijken verder naar precision en recall. Dit houdt in dat we kijken naar of iemand terecht/onterecht is geclassificeerd.  \n",
    "F1 is precision gedeeld door de recall."
   ]
  },
  {
   "cell_type": "markdown",
   "metadata": {},
   "source": [
    "## Zou ik de Titanic overleven?"
   ]
  },
  {
   "cell_type": "markdown",
   "metadata": {},
   "source": [
    "Vul tussen de [ ] je eigen gevens in: \n",
    "\n",
    "- Pclass : welke klasse je had willen reizen\n",
    "- Age : je leeftijd\n",
    "- SibSP : aantal kinderen\n",
    "- Parch : aantal ouder (als je die mee wilt nemen)\n",
    "- Male: 1 voor ja , 0 voor nee\n",
    "- Q : 1 voor vertrek van Queenstown, 0 niet\n",
    "- S : 1 voor vertrek van Southhampton , 0 voor vertrek Cherbourg."
   ]
  },
  {
   "cell_type": "code",
   "execution_count": null,
   "metadata": {},
   "outputs": [],
   "source": [
    "eigen_gegevens = {\"Pclass\":[3], \"Age\":[29], \"SibSp\":[0], \"Parch\":[0], \"Fare\":[50], \"male\":[1] ,\"Q\":[0], \"S\":[1]}"
   ]
  },
  {
   "cell_type": "markdown",
   "metadata": {},
   "source": [
    "#### Krijg je hieronder 0? Dan zal je het niet overleven, 1 dan wel!!!"
   ]
  },
  {
   "cell_type": "code",
   "execution_count": null,
   "metadata": {},
   "outputs": [],
   "source": [
    "rfc.predict(pd.DataFrame.from_dict(eigen_gegevens))"
   ]
  }
 ],
 "metadata": {
  "kernelspec": {
   "display_name": "Python 3 (ipykernel)",
   "language": "python",
   "name": "python3"
  },
  "language_info": {
   "codemirror_mode": {
    "name": "ipython",
    "version": 3
   },
   "file_extension": ".py",
   "mimetype": "text/x-python",
   "name": "python",
   "nbconvert_exporter": "python",
   "pygments_lexer": "ipython3",
   "version": "3.8.10"
  }
 },
 "nbformat": 4,
 "nbformat_minor": 4
}
